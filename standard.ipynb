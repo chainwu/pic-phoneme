{
 "cells": [
  {
   "cell_type": "code",
   "execution_count": 2,
   "id": "2064280d-21f9-46c3-8d23-77a9b4369464",
   "metadata": {},
   "outputs": [],
   "source": [
    "import glob"
   ]
  },
  {
   "cell_type": "code",
   "execution_count": 7,
   "id": "e75d9e07-4714-40bf-bf03-7dbc86bb3d59",
   "metadata": {},
   "outputs": [],
   "source": [
    "fl=glob.glob(\"data/NSB_*/Standard/*.m4a\")"
   ]
  },
  {
   "cell_type": "code",
   "execution_count": 8,
   "id": "1cdfd45b-1515-40cd-b26a-e5f843e5cb89",
   "metadata": {},
   "outputs": [
    {
     "data": {
      "text/plain": [
       "['data\\\\NSB_I_PicNaming\\\\Standard\\\\企鵝.m4a',\n",
       " 'data\\\\NSB_I_PicNaming\\\\Standard\\\\傘.m4a',\n",
       " 'data\\\\NSB_I_PicNaming\\\\Standard\\\\叉子.m4a',\n",
       " 'data\\\\NSB_I_PicNaming\\\\Standard\\\\口罩.m4a',\n",
       " 'data\\\\NSB_I_PicNaming\\\\Standard\\\\哭.m4a',\n",
       " 'data\\\\NSB_I_PicNaming\\\\Standard\\\\嘴.m4a',\n",
       " 'data\\\\NSB_I_PicNaming\\\\Standard\\\\垃圾.m4a',\n",
       " 'data\\\\NSB_I_PicNaming\\\\Standard\\\\大象.m4a',\n",
       " 'data\\\\NSB_I_PicNaming\\\\Standard\\\\太陽.m4a',\n",
       " 'data\\\\NSB_I_PicNaming\\\\Standard\\\\奶瓶.m4a',\n",
       " 'data\\\\NSB_I_PicNaming\\\\Standard\\\\工人.m4a',\n",
       " 'data\\\\NSB_I_PicNaming\\\\Standard\\\\帽子.m4a',\n",
       " 'data\\\\NSB_I_PicNaming\\\\Standard\\\\手.m4a',\n",
       " 'data\\\\NSB_I_PicNaming\\\\Standard\\\\手錶.m4a',\n",
       " 'data\\\\NSB_I_PicNaming\\\\Standard\\\\掃把.m4a',\n",
       " 'data\\\\NSB_I_PicNaming\\\\Standard\\\\斑馬.m4a',\n",
       " 'data\\\\NSB_I_PicNaming\\\\Standard\\\\日本.m4a',\n",
       " 'data\\\\NSB_I_PicNaming\\\\Standard\\\\時鐘.m4a',\n",
       " 'data\\\\NSB_I_PicNaming\\\\Standard\\\\書.m4a',\n",
       " 'data\\\\NSB_I_PicNaming\\\\Standard\\\\月亮.m4a',\n",
       " 'data\\\\NSB_I_PicNaming\\\\Standard\\\\杯子.m4a',\n",
       " 'data\\\\NSB_I_PicNaming\\\\Standard\\\\桌.m4a',\n",
       " 'data\\\\NSB_I_PicNaming\\\\Standard\\\\棒球.m4a',\n",
       " 'data\\\\NSB_I_PicNaming\\\\Standard\\\\樹葉.m4a',\n",
       " 'data\\\\NSB_I_PicNaming\\\\Standard\\\\氣球.m4a',\n",
       " 'data\\\\NSB_I_PicNaming\\\\Standard\\\\河馬.m4a',\n",
       " 'data\\\\NSB_I_PicNaming\\\\Standard\\\\洋蔥.m4a',\n",
       " 'data\\\\NSB_I_PicNaming\\\\Standard\\\\洗澡.m4a',\n",
       " 'data\\\\NSB_I_PicNaming\\\\Standard\\\\海.m4a',\n",
       " 'data\\\\NSB_I_PicNaming\\\\Standard\\\\湯匙.m4a',\n",
       " 'data\\\\NSB_I_PicNaming\\\\Standard\\\\滑梯.m4a',\n",
       " 'data\\\\NSB_I_PicNaming\\\\Standard\\\\熊.m4a',\n",
       " 'data\\\\NSB_I_PicNaming\\\\Standard\\\\燈泡.m4a',\n",
       " 'data\\\\NSB_I_PicNaming\\\\Standard\\\\牙刷.m4a',\n",
       " 'data\\\\NSB_I_PicNaming\\\\Standard\\\\牛奶.m4a',\n",
       " 'data\\\\NSB_I_PicNaming\\\\Standard\\\\狗.m4a',\n",
       " 'data\\\\NSB_I_PicNaming\\\\Standard\\\\獅子.m4a',\n",
       " 'data\\\\NSB_I_PicNaming\\\\Standard\\\\球.m4a',\n",
       " 'data\\\\NSB_I_PicNaming\\\\Standard\\\\盤.m4a',\n",
       " 'data\\\\NSB_I_PicNaming\\\\Standard\\\\相機.m4a',\n",
       " 'data\\\\NSB_I_PicNaming\\\\Standard\\\\碗.m4a',\n",
       " 'data\\\\NSB_I_PicNaming\\\\Standard\\\\積木.m4a',\n",
       " 'data\\\\NSB_I_PicNaming\\\\Standard\\\\筆.m4a',\n",
       " 'data\\\\NSB_I_PicNaming\\\\Standard\\\\筷子.m4a',\n",
       " 'data\\\\NSB_I_PicNaming\\\\Standard\\\\糖.m4a',\n",
       " 'data\\\\NSB_I_PicNaming\\\\Standard\\\\紫色.m4a',\n",
       " 'data\\\\NSB_I_PicNaming\\\\Standard\\\\羊.m4a',\n",
       " 'data\\\\NSB_I_PicNaming\\\\Standard\\\\老虎.m4a',\n",
       " 'data\\\\NSB_I_PicNaming\\\\Standard\\\\老鼠.m4a',\n",
       " 'data\\\\NSB_I_PicNaming\\\\Standard\\\\肉.m4a',\n",
       " 'data\\\\NSB_I_PicNaming\\\\Standard\\\\腳.m4a',\n",
       " 'data\\\\NSB_I_PicNaming\\\\Standard\\\\花.m4a',\n",
       " 'data\\\\NSB_I_PicNaming\\\\Standard\\\\草.m4a',\n",
       " 'data\\\\NSB_I_PicNaming\\\\Standard\\\\草莓.m4a',\n",
       " 'data\\\\NSB_I_PicNaming\\\\Standard\\\\葡萄.m4a',\n",
       " 'data\\\\NSB_I_PicNaming\\\\Standard\\\\藍.m4a',\n",
       " 'data\\\\NSB_I_PicNaming\\\\Standard\\\\蘋果.m4a',\n",
       " 'data\\\\NSB_I_PicNaming\\\\Standard\\\\蛋.m4a',\n",
       " 'data\\\\NSB_I_PicNaming\\\\Standard\\\\蛋糕.m4a',\n",
       " 'data\\\\NSB_I_PicNaming\\\\Standard\\\\蝴蝶.m4a',\n",
       " 'data\\\\NSB_I_PicNaming\\\\Standard\\\\螃蟹.m4a',\n",
       " 'data\\\\NSB_I_PicNaming\\\\Standard\\\\蠟筆.m4a',\n",
       " 'data\\\\NSB_I_PicNaming\\\\Standard\\\\衣服.m4a',\n",
       " 'data\\\\NSB_I_PicNaming\\\\Standard\\\\襪子.m4a',\n",
       " 'data\\\\NSB_I_PicNaming\\\\Standard\\\\豬.m4a',\n",
       " 'data\\\\NSB_I_PicNaming\\\\Standard\\\\貓.m4a',\n",
       " 'data\\\\NSB_I_PicNaming\\\\Standard\\\\貝殼.m4a',\n",
       " 'data\\\\NSB_I_PicNaming\\\\Standard\\\\車子.m4a',\n",
       " 'data\\\\NSB_I_PicNaming\\\\Standard\\\\車庫.m4a',\n",
       " 'data\\\\NSB_I_PicNaming\\\\Standard\\\\醫院.m4a',\n",
       " 'data\\\\NSB_I_PicNaming\\\\Standard\\\\錢.m4a',\n",
       " 'data\\\\NSB_I_PicNaming\\\\Standard\\\\鍋子.m4a',\n",
       " 'data\\\\NSB_I_PicNaming\\\\Standard\\\\雲.m4a',\n",
       " 'data\\\\NSB_I_PicNaming\\\\Standard\\\\電扇.m4a',\n",
       " 'data\\\\NSB_I_PicNaming\\\\Standard\\\\電腦.m4a',\n",
       " 'data\\\\NSB_I_PicNaming\\\\Standard\\\\電話.m4a',\n",
       " 'data\\\\NSB_I_PicNaming\\\\Standard\\\\青蛙.m4a',\n",
       " 'data\\\\NSB_I_PicNaming\\\\Standard\\\\鞋子.m4a',\n",
       " 'data\\\\NSB_I_PicNaming\\\\Standard\\\\飛機.m4a',\n",
       " 'data\\\\NSB_I_PicNaming\\\\Standard\\\\飯.m4a',\n",
       " 'data\\\\NSB_I_PicNaming\\\\Standard\\\\餅乾.m4a',\n",
       " 'data\\\\NSB_I_PicNaming\\\\Standard\\\\香蕉.m4a',\n",
       " 'data\\\\NSB_I_PicNaming\\\\Standard\\\\鳥.m4a',\n",
       " 'data\\\\NSB_I_PicNaming\\\\Standard\\\\鳳梨.m4a',\n",
       " 'data\\\\NSB_I_PicNaming\\\\Standard\\\\鹿.m4a']"
      ]
     },
     "execution_count": 8,
     "metadata": {},
     "output_type": "execute_result"
    }
   ],
   "source": [
    "fl"
   ]
  },
  {
   "cell_type": "code",
   "execution_count": null,
   "id": "531809df-3fa3-46ef-8408-6e1012c774ad",
   "metadata": {},
   "outputs": [],
   "source": []
  }
 ],
 "metadata": {
  "kernelspec": {
   "display_name": "pic-phoneme",
   "language": "python",
   "name": "pic-phoneme"
  },
  "language_info": {
   "codemirror_mode": {
    "name": "ipython",
    "version": 3
   },
   "file_extension": ".py",
   "mimetype": "text/x-python",
   "name": "python",
   "nbconvert_exporter": "python",
   "pygments_lexer": "ipython3",
   "version": "3.10.13"
  }
 },
 "nbformat": 4,
 "nbformat_minor": 5
}
